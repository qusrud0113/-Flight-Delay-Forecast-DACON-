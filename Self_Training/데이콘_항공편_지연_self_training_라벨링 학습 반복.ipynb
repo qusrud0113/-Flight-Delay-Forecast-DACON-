{
  "nbformat": 4,
  "nbformat_minor": 0,
  "metadata": {
    "colab": {
      "provenance": []
    },
    "kernelspec": {
      "name": "python3",
      "display_name": "Python 3"
    },
    "language_info": {
      "name": "python"
    }
  },
  "cells": [
    {
      "cell_type": "code",
      "source": [
        "#!sudo apt-get install -y fonts-nanum\n",
        "#!sudo fc-cache -fv\n",
        "#!rm ~/.cache/matplotlib -rf\n",
        "\n",
        "\n",
        "#티스토리 업로드시 최적화 코드\n",
        "#from IPython.core.display import display, HTML\n",
        "#display(HTML(\"<style>.container {width:90% !important;}</style>\"))"
      ],
      "metadata": {
        "id": "t79I6topciRs"
      },
      "execution_count": 12,
      "outputs": []
    },
    {
      "cell_type": "code",
      "execution_count": 13,
      "metadata": {
        "colab": {
          "base_uri": "https://localhost:8080/"
        },
        "id": "9yk_Wsw-ZBC-",
        "outputId": "c971669c-3c0e-466e-9072-c40811f2f9d7"
      },
      "outputs": [
        {
          "output_type": "stream",
          "name": "stdout",
          "text": [
            "Drive already mounted at /content/drive; to attempt to forcibly remount, call drive.mount(\"/content/drive\", force_remount=True).\n"
          ]
        }
      ],
      "source": [
        "import pandas as pd\n",
        "from google.colab import drive\n",
        "drive.mount('/content/drive')"
      ]
    },
    {
      "cell_type": "code",
      "source": [
        "file_dir = '/content/drive/MyDrive/데이콘/데이콘 항공편 지연/데이콘_항공편_지연'"
      ],
      "metadata": {
        "id": "KqYS4CHdZEM9"
      },
      "execution_count": 14,
      "outputs": []
    },
    {
      "cell_type": "code",
      "source": [
        "import numpy as np\n",
        "import random\n",
        "import os\n",
        "import gc\n",
        "\n",
        "from sklearn.ensemble import RandomForestClassifier\n",
        "from sklearn.preprocessing import LabelEncoder"
      ],
      "metadata": {
        "id": "EzaG7pBGZEc5"
      },
      "execution_count": 15,
      "outputs": []
    },
    {
      "cell_type": "code",
      "source": [
        "def seed_everything(seed):\n",
        "    random.seed(seed)\n",
        "    os.environ['PYTHONHASHSEED'] = str(seed)\n",
        "    np.random.seed(seed)\n",
        "seed_everything(42) # Seed 고정"
      ],
      "metadata": {
        "id": "ePHdYx55ZOA7"
      },
      "execution_count": 16,
      "outputs": []
    },
    {
      "cell_type": "code",
      "source": [
        "def csv_to_parquet(csv_path, save_name):\n",
        "    df = pd.read_csv(csv_path)\n",
        "    df.to_parquet(f'./{save_name}.parquet')\n",
        "    del df\n",
        "    gc.collect()\n",
        "    print(save_name, 'Done.')"
      ],
      "metadata": {
        "id": "dlLvr5q3ZPOh"
      },
      "execution_count": 17,
      "outputs": []
    },
    {
      "cell_type": "code",
      "source": [
        "csv_to_parquet(file_dir + '/train.csv', 'train')\n",
        "csv_to_parquet(file_dir + '/test.csv', 'test')"
      ],
      "metadata": {
        "colab": {
          "base_uri": "https://localhost:8080/"
        },
        "id": "2aEOklZ9ZQYD",
        "outputId": "a23be252-3f81-40b2-d9dc-b1ccf815f70f"
      },
      "execution_count": 18,
      "outputs": [
        {
          "output_type": "stream",
          "name": "stdout",
          "text": [
            "train Done.\n",
            "test Done.\n"
          ]
        }
      ]
    },
    {
      "cell_type": "code",
      "source": [
        "train = pd.read_parquet('/content/train.parquet')\n",
        "test = pd.read_parquet('/content/test.parquet')\n",
        "sample_submission = pd.read_csv(file_dir+'/sample_submission.csv', index_col = 0)"
      ],
      "metadata": {
        "id": "hy_Two4JZRPJ"
      },
      "execution_count": 19,
      "outputs": []
    },
    {
      "cell_type": "code",
      "source": [
        "import matplotlib\n",
        "\n",
        "matplotlib.rcParams['font.family'] = 'NanumBarunGothic'\n",
        "matplotlib.rcParams['axes.unicode_minus'] = False\n",
        "\n",
        "column = ['결손값 개수']\n",
        "axis_1 = pd.DataFrame(data = train.isnull().sum(axis=1), columns = column)\n",
        "axis_1 = axis_1.sort_values(by = '결손값 개수', ascending = False)\n",
        "\n",
        "train.isnull().sum(axis=0)\n",
        "train_row_NaN = pd.DataFrame(train.isnull().sum(axis=0), columns = column)\n",
        "train_row_NaN = train_row_NaN.sort_values(by = '결손값 개수', ascending = False)\n",
        "train_row_su = train.shape[0]\n",
        "train_row_NaN['결손값_ratio'] = train_row_NaN['결손값 개수']/train_row_su\n",
        "\n",
        "import matplotlib.pyplot as plt\n",
        "import matplotlib.patches as mpatches\n",
        "\n",
        "plt.figure(figsize = (16,8))\n",
        "x = np.arange(len(train_row_NaN.index))\n",
        "plt.subplot(1, 2, 1)\n",
        "plt.xticks(x, train_row_NaN.index)\n",
        "plt.xticks(rotation=90)\n",
        "plt.legend(handles=[mpatches.Patch(color='orange'),\n",
        "                    mpatches.Patch(color='red')], \n",
        "           labels=['Partial values in columns are NaN', 'All values in columns are NaN'])\n",
        "\n",
        "def color(data):\n",
        "    if data == 1:\n",
        "        return 'red'\n",
        "    else:\n",
        "        return 'orange'\n",
        "plt.bar(x, train_row_NaN['결손값_ratio'], color = [color(i) for i in train_row_NaN['결손값_ratio']])\n",
        "plt.title('Train data NaN check')\n",
        "\n",
        "test.isnull().sum(axis=0)\n",
        "test_row_NaN = pd.DataFrame(test.isnull().sum(axis=0), columns = column)\n",
        "test_row_NaN = test_row_NaN.sort_values(by = '결손값 개수', ascending = False)\n",
        "test_row_su = test.shape[0]\n",
        "test_row_NaN['결손값_ratio'] = test_row_NaN['결손값 개수']/test_row_su\n",
        "\n",
        "plt.subplot(1, 2, 2)\n",
        "x2 = np.arange(len(test_row_NaN.index))\n",
        "plt.xticks(x2, test_row_NaN.index)\n",
        "plt.xticks(rotation=90)\n",
        "plt.bar(x2, test_row_NaN['결손값_ratio'], color = [color(i) for i in test_row_NaN['결손값_ratio']])\n",
        "plt.title('Test data NaN check')\n",
        "\n",
        "print(test_row_NaN)\n",
        "print(train_row_NaN)\n",
        "plt.show()"
      ],
      "metadata": {
        "colab": {
          "base_uri": "https://localhost:8080/",
          "height": 1000
        },
        "id": "tXeC_Pk8ceh2",
        "outputId": "190f4890-d526-4551-e3e1-9fc470d9aaea"
      },
      "execution_count": 20,
      "outputs": [
        {
          "output_type": "stream",
          "name": "stdout",
          "text": [
            "                          결손값 개수  결손값_ratio\n",
            "Estimated_Arrival_Time    109048   0.109048\n",
            "Carrier_ID(DOT)           109006   0.109006\n",
            "Carrier_Code(IATA)        108993   0.108993\n",
            "Estimated_Departure_Time  108984   0.108984\n",
            "Airline                   106527   0.106527\n",
            "Destination_State         106523   0.106523\n",
            "Origin_State              106505   0.106505\n",
            "Destination_Airport            0   0.000000\n",
            "Distance                       0   0.000000\n",
            "Destination_Airport_ID         0   0.000000\n",
            "ID                             0   0.000000\n",
            "Month                          0   0.000000\n",
            "Origin_Airport_ID              0   0.000000\n",
            "Origin_Airport                 0   0.000000\n",
            "Diverted                       0   0.000000\n",
            "Cancelled                      0   0.000000\n",
            "Day_of_Month                   0   0.000000\n",
            "Tail_Number                    0   0.000000\n",
            "                          결손값 개수  결손값_ratio\n",
            "Delay                     744999   0.744999\n",
            "Destination_State         109079   0.109079\n",
            "Estimated_Arrival_Time    109040   0.109040\n",
            "Estimated_Departure_Time  109019   0.109019\n",
            "Origin_State              109015   0.109015\n",
            "Carrier_ID(DOT)           108997   0.108997\n",
            "Carrier_Code(IATA)        108990   0.108990\n",
            "Airline                   108920   0.108920\n",
            "Cancelled                      0   0.000000\n",
            "Diverted                       0   0.000000\n",
            "Origin_Airport                 0   0.000000\n",
            "Origin_Airport_ID              0   0.000000\n",
            "Month                          0   0.000000\n",
            "Destination_Airport            0   0.000000\n",
            "Destination_Airport_ID         0   0.000000\n",
            "Day_of_Month                   0   0.000000\n",
            "Distance                       0   0.000000\n",
            "Tail_Number                    0   0.000000\n",
            "ID                             0   0.000000\n"
          ]
        },
        {
          "output_type": "display_data",
          "data": {
            "text/plain": [
              "<Figure size 1600x800 with 2 Axes>"
            ],
            "image/png": "[encoded data removed]"
          },
          "metadata": {}
        }
      ]
    },
    {
      "cell_type": "markdown",
      "source": [
        "기존 train 데이터로 self training을 진행하여 null이 있는 열을 학습시켜야함.\n",
        "순서는 null이 적은 값부터 많은 순서대로 학습 <br>\n",
        "Airline > Carrier_ID(DOT) > Carrier_Code(IATA) > Estimated_Departure_Time > Estimated_Arrival_Time > delay <br>  "
      ],
      "metadata": {
        "id": "3x53B1zqbCVc"
      }
    },
    {
      "cell_type": "code",
      "source": [
        "# 준지도 학습 전 라벨링\n",
        "from sklearn.semi_supervised import SelfTrainingClassifier\n",
        "from sklearn.ensemble import RandomForestClassifier\n",
        "from sklearn.preprocessing import LabelEncoder\n",
        " \n",
        "train_lb = train.__deepcopy__()\n",
        "test_lb = test.__deepcopy__()\n",
        "\n",
        "fill_list = ['Airline', 'Carrier_ID(DOT)','Carrier_Code(IATA)','Estimated_Departure_Time','Estimated_Arrival_Time','delay']\n",
        "qual_col = ['Origin_Airport', 'Origin_State', 'Destination_Airport', 'Destination_State', 'Tail_Number']\n",
        "oridinary_col = ['Cancelled','Diverted','Origin_Airport','Origin_Airport_ID', 'Origin_State', 'Destination_Airport', 'Destination_Airport_ID', 'Destination_State', 'Tail_Number', 'Month', 'Day_of_Month','Distance']\n",
        "\n",
        "# Train 데이터에서 null이 없는 열들 중 라벨링(not int)이 필요한 열들 순차적으로 정리\n",
        "add_list = {}\n",
        "for i in range(len(fill_list)): \n",
        "    if i == 0:\n",
        "        add_list[i] = qual_col\n",
        "    else:       \n",
        "        add_list[i] = add_list[i-1] + [fill_list[i-1]]\n",
        "\n",
        "train_lb = train.__deepcopy__()\n",
        "test_lb = test.__deepcopy__()\n",
        "\n",
        "for i in range(len(fill_list)): \n",
        "    # 라벨링 준비\n",
        "    label_st = train_lb.drop(columns = [fill_list[i]])\n",
        "    train_st = train_lb[(train_lb[fill_list[i]].astype(str) != 'None')].drop(columns = [fill_list[i]])\n",
        "    X_nan = train_lb[(train_lb[fill_list[i]].astype(str) == 'None')].drop(columns = [fill_list[i]])\n",
        "    test_nan = test_lb[(test_lb[fill_list[i]].astype(str) == 'None')].drop(columns = [fill_list[i]])\n",
        "\n",
        "    # 라벨링이 안된 원소들 라벨링\n",
        "    for j in add_list[i]:\n",
        "        le = LabelEncoder()\n",
        "        le=le.fit(label_st[j])\n",
        "        for label in np.unique(test[j].dropna()):\n",
        "            if label not in le.classes_: \n",
        "                le.classes_ = np.append(le.classes_, label)\n",
        "        train_lb[j] = le.transform(train_lb[j])\n",
        "        train_st[j]=le.transform(train_st[j])\n",
        "        X_nan[j]=le.transform(X_nan[j])\n",
        "        test_lb[j]=le.transform(test_lb[j])    \n",
        "\n",
        "    # 라벨링을 통해 null이 없었던 columns을 통해서 self_training\n",
        "    X = train_st[oridinary_col]\n",
        "    target_col = oridinary_col+ [fill_list[i]]\n",
        "    y = train_lb[(train_lb[fill_list[i]].astype(str) != 'None')][target_col][fill_list[i]]\n",
        "\n",
        "    stclf = SelfTrainingClassifier(\n",
        "        base_estimator = RandomForestClassifier(n_estimators = 100),\n",
        "        verbose = True)\n",
        "    stclf.fit(X, y)   \n",
        "\n",
        "    # 결과값 삽입\n",
        "    X_nan[fill_list[i]+'_pred'] = stclf.predict(X_nan[oridinary_col])\n",
        "    test_nan[fill_list[i]+'_pred'] = stclf.predict(test_nan[oridinary_col])\n",
        "    train_lb.loc[train_lb[fill_list[i]].astype(str) == 'None', fill_list[i]] = X_nan[fill_list[i]+'_pred']\n",
        "    test_lb.loc[test_lb[fill_list[i]].astype(str) == 'None', fill_list[i]] = test_nan[fill_list[i]+'_pred']\n",
        "    \n",
        "    # 다음 self_training을 위해 열 변경\n",
        "    oridinary_col + [fill_list[i]]\n"
      ],
      "metadata": {
        "colab": {
          "base_uri": "https://localhost:8080/"
        },
        "id": "8zt-SjpnbSaY",
        "outputId": "139b3cb8-46f7-4e48-cd7c-a6d4168eb37a"
      },
      "execution_count": null,
      "outputs": [
        {
          "output_type": "stream",
          "name": "stderr",
          "text": [
            "/usr/local/lib/python3.9/dist-packages/sklearn/semi_supervised/_self_training.py:212: UserWarning: y contains no unlabeled samples\n",
            "  warnings.warn(\"y contains no unlabeled samples\", UserWarning)\n"
          ]
        }
      ]
    },
    {
      "cell_type": "code",
      "source": [
        "import itertools\n",
        "import pandas as pd\n",
        "import datetime \n",
        "def feature_engineering(t):\n",
        "\tdef to_time(time_list):\n",
        "\t\tTime = pd.Series(time_list).astype(str).str.zfill(4)\n",
        "\t\tTime = Time.replace('2400','0000')\n",
        "\t\treturn [datetime.datetime.strptime(i, '%H%M').strftime(\"%H:%M\") if i != '0nan' else np.NaN for i in Time] \n",
        "\ttime_list = [i if str(i) == 'nan' else str(int(i))  for i in t['Estimated_Departure_Time'] ]\n",
        "\ttime_list1 = [i if str(i) == 'nan' else str(int(i))  for i in t['Estimated_Arrival_Time'] ]\n",
        "\tt['Estimated_Departure_Time_HH:MM'] = to_time(time_list)\n",
        "\tt['Estimated_Arrival_Time_HH:MM'] = to_time(time_list1)\n",
        "\t\n",
        "\t# 예상 비행시간 만들기 (분으로 만들기)\n",
        "\test_time = []\n",
        "\tfor i,j in zip(t['Estimated_Arrival_Time_HH:MM'], t['Estimated_Departure_Time_HH:MM']):\n",
        "\t\tif str(i) != 'nan' and str(j) != 'nan':\n",
        "\t\t\tif (datetime.datetime.strptime(str(i), \"%H:%M\") - datetime.datetime.strptime(str(j), \"%H:%M\")).total_seconds()/60 >= 0:\n",
        "\t\t\t\test_time.append((datetime.datetime.strptime(str(i), \"%H:%M\") - datetime.datetime.strptime(str(j), \"%H:%M\")).total_seconds()/60)\n",
        "\t\t\telse:\n",
        "\t\t\t\ttime = datetime.datetime.strptime(str(i), \"%H:%M\") - datetime.datetime.strptime(str(j), \"%H:%M\") + datetime.datetime.strptime('23:59', \"%H:%M\") + datetime.timedelta(minutes=1)\n",
        "\t\t\t\test_time.append(datetime.timedelta(hours=time.hour,minutes=time.minute ).total_seconds()/60)\n",
        "\t\telse:\n",
        "\t\t\test_time.append(np.NaN)\n",
        "\t\t\t\n",
        "\t# 예상 출발, 도착시간 그룹 화\n",
        "\tdef time_gb(x):\t\t\n",
        "\t\tif x >= 600 and x <= 659:\n",
        "\t\t\treturn '0600-0659'\n",
        "\t\telif x>=1400 and x<=1459:\n",
        "\t\t\treturn '1400-1459'\n",
        "\t\telif x>=1200 and x<=1259:\n",
        "\t\t\treturn '1200-1259'\n",
        "\t\telif x>=1500 and x<=1559:\n",
        "\t\t\treturn '1500-1559'\n",
        "\t\telif x>=1900 and x<=1959:\n",
        "\t\t\treturn '1900-1959'\n",
        "\t\telif x>=900 and x<=959:\n",
        "\t\t\treturn '0900-0959'\n",
        "\t\telif x>=1000 and x<=1059:\n",
        "\t\t\treturn  '1000-1059'\n",
        "\t\telif x>=2000 and x<=2059:\n",
        "\t\t\treturn '2000-2059'\n",
        "\t\telif x>=1300 and x<=1359:\n",
        "\t\t\treturn '1300-1359'\n",
        "\t\telif x>=1100 and x<=1159:\n",
        "\t\t\treturn '1100-1159'\n",
        "\t\telif x>=800 and x<=859:\n",
        "\t\t\treturn '0800-0859'\n",
        "\t\telif x>=2200 and x<=2259:\n",
        "\t\t\treturn '2200-2259'\n",
        "\t\telif x>=1600 and x<=1659:\n",
        "\t\t\treturn '1600-1659'\n",
        "\t\telif x>=1700 and x<=1759:\n",
        "\t\t\treturn '1700-1759'\n",
        "\t\telif x>=2100 and x<=2159:\n",
        "\t\t\treturn '2100-2159'\n",
        "\t\telif x>=700 and x<=759:\n",
        "\t\t\treturn '0700-0759'\n",
        "\t\telif x>=1800 and x<=1859:\n",
        "\t\t\treturn '1800-1859'\n",
        "\t\telif x>=1 and x<=559:\n",
        "\t\t\treturn '0001-0559'\n",
        "\t\telif x>=2300 and x<=2400:\n",
        "\t\t\treturn '2300-2400'\n",
        "\n",
        "\tt['Dep_time_gb'] = t['Estimated_Departure_Time'].dropna().apply(time_gb)\n",
        "\tt['Arr_time_gb'] = t['Estimated_Arrival_Time'].dropna().apply(time_gb)\n",
        "\t\n",
        "\t# 예상 출발, 도착시간 그룹 화\n",
        "\tdef distance_gb(x):\n",
        "\t\tif x < 700 :\n",
        "\t\t\treturn 'short_route'\n",
        "\t\telif x>=700 and x<3000:\n",
        "\t\t\treturn 'mid_route'\n",
        "\t\telif x>=3000:\n",
        "\t\t\treturn 'long_route'        \n",
        "\tt['route_gb'] = t['Distance'].apply(distance_gb)\n",
        "\t\n",
        "\t# State 채우기\n",
        "\n",
        "\t# 값이 없는 특정 State 채우기\n",
        "\torigin_state = train[['Origin_Airport','Origin_Airport_ID','Origin_State']].dropna()\n",
        "\torigin_state = origin_state.drop_duplicates()\n",
        "\torigin_state.columns = ['Origin_Airport','Origin_Airport_ID','F_Origin_State']\n",
        "\tDestination_state = train[['Destination_Airport','Destination_Airport_ID','Destination_State']].dropna()\n",
        "\tDestination_state = Destination_state.drop_duplicates()\n",
        "\tDestination_state.columns = ['Destination_Airport','Destination_Airport_ID','F_Destination_State']\n",
        "\n",
        "\tt = pd.merge(t, origin_state, on = ['Origin_Airport','Origin_Airport_ID'], how = 'outer')\n",
        "\tt = pd.merge(t, Destination_state, on = ['Destination_Airport','Destination_Airport_ID'], how = 'outer')\n",
        "\t\n",
        "\n",
        "\tmask = (t['Destination_Airport'] == 'YNG')&(t['Destination_Airport_ID'] == 16133)\n",
        "\tvalue = 'Indiana'\n",
        "\tt.loc[mask,'F_Destination_State'] = t.loc[mask,'F_Destination_State'].fillna(value) \n",
        "\tt = t.drop(columns=['Origin_State', 'Destination_State'])\n",
        "\tt = t.rename(columns={'F_Origin_State': 'Origin_State', 'F_Destination_State': 'Destination_State'})\n",
        " \n",
        "\t# 누락된 Airline 임의로 채우기 (외부 데이터 사용 불가능!!)\n",
        "\n",
        "\t#master_dil = '/content/drive/MyDrive/데이콘/데이콘 항공편 지연/데이콘_항공편_지연/ReleasableAircraft.2020/MASTER.txt'\n",
        "\t#data = []\n",
        "\t#with open(master_dil, 'r', encoding = \"utf-8-sig\") as file:\n",
        "\t#\tdata.append(file.readlines())    \n",
        "\t#data = list(itertools.chain(*data))  \n",
        "\t#data = [line.split(',') for line in data]\n",
        "\t#col = data[0]\n",
        "\t#df = pd.DataFrame(data, columns = col)\n",
        "\t#df['Tail_Number'] = ['N' + i for i in df['N-NUMBER']]\n",
        "\t#Airline = df[['N-NUMBER', 'Tail_Number', 'NAME']]\n",
        "\t#t = pd.merge(t, Airline, left_on = 'Tail_Number', right_on = 'Tail_Number', how = 'left')\n",
        "\t#t = pd.merge(t, Airline[['N-NUMBER', 'NAME']], left_on = 'Tail_Number', right_on = 'N-NUMBER', how = 'left')\n",
        "\n",
        "\t#Airline_mode = pd.DataFrame(t.groupby(['Tail_Number'])['Airline'].agg(pd.Series.mode))\n",
        "\t#Airline_mode.rename(columns = {'Airline' : 'mode_Airline'})\n",
        " \n",
        "\t#t = pd.merge(t, Airline_mode, on = 'Tail_Number', how = 'left')\n",
        "\t\n",
        "\t#t['New_Airline'] = np.where(t['Tail_Number'][:1] == 'N', t['NAME_y'], t['Airline_x'])\n",
        "\t#t['New_Airline'] = np.where((t['New_Airline'].astype(str) == 'nan') & (t['Airline_x'].astype(str) == 'nan'), t['NAME_x'], t['Airline_x'])\n",
        "\t#t['New_Airline'] = np.where((t['New_Airline'].astype(str) == 'None'), t['Airline_y'], t['Airline_x'])\n",
        "\t#t = t.drop(columns = ['Origin_State', 'Destination_State','Airline','N-NUMBER_x', 'N-NUMBER_y', 'NAME_x','NAME_y','mode_Airline'])\n",
        "\treturn t"
      ],
      "metadata": {
        "id": "V0XJm3v-ZSVG"
      },
      "execution_count": null,
      "outputs": []
    },
    {
      "cell_type": "code",
      "source": [
        "train = feature_engineering(train)\n",
        "test = feature_engineering(test)"
      ],
      "metadata": {
        "id": "EcnU5CQtYXN9"
      },
      "execution_count": null,
      "outputs": []
    },
    {
      "cell_type": "code",
      "source": [
        "train"
      ],
      "metadata": {
        "id": "wqP1LH7AbFxf"
      },
      "execution_count": null,
      "outputs": []
    }
  ]
}